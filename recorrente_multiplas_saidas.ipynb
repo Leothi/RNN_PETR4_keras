{
 "cells": [
  {
   "cell_type": "markdown",
   "metadata": {},
   "source": [
    "# Redes Neurais Recorrentes\n",
    "### Previsão do preço de abertura e alta da bolsa (PETR4) utilizando preço de abertura como previsor.\n",
    "#### Por Leonardo Bonifácio"
   ]
  },
  {
   "cell_type": "code",
   "execution_count": 1,
   "metadata": {},
   "outputs": [
    {
     "name": "stderr",
     "output_type": "stream",
     "text": [
      "Using TensorFlow backend.\n"
     ]
    }
   ],
   "source": [
    "import pandas as pd\n",
    "import numpy as np\n",
    "from sklearn.preprocessing import MinMaxScaler\n",
    "from keras.models import Sequential\n",
    "from keras.layers import LSTM, Dense, Dropout,CuDNNLSTM\n",
    "from keras.callbacks import EarlyStopping, ReduceLROnPlateau, ModelCheckpoint"
   ]
  },
  {
   "cell_type": "code",
   "execution_count": 2,
   "metadata": {},
   "outputs": [
    {
     "data": {
      "text/html": [
       "<div>\n",
       "<style scoped>\n",
       "    .dataframe tbody tr th:only-of-type {\n",
       "        vertical-align: middle;\n",
       "    }\n",
       "\n",
       "    .dataframe tbody tr th {\n",
       "        vertical-align: top;\n",
       "    }\n",
       "\n",
       "    .dataframe thead th {\n",
       "        text-align: right;\n",
       "    }\n",
       "</style>\n",
       "<table border=\"1\" class=\"dataframe\">\n",
       "  <thead>\n",
       "    <tr style=\"text-align: right;\">\n",
       "      <th></th>\n",
       "      <th>Date</th>\n",
       "      <th>Open</th>\n",
       "      <th>High</th>\n",
       "      <th>Low</th>\n",
       "      <th>Close</th>\n",
       "      <th>Adj Close</th>\n",
       "      <th>Volume</th>\n",
       "    </tr>\n",
       "  </thead>\n",
       "  <tbody>\n",
       "    <tr>\n",
       "      <th>0</th>\n",
       "      <td>2013-01-02</td>\n",
       "      <td>19.990000</td>\n",
       "      <td>20.209999</td>\n",
       "      <td>19.690001</td>\n",
       "      <td>19.690001</td>\n",
       "      <td>18.086271</td>\n",
       "      <td>30182600.0</td>\n",
       "    </tr>\n",
       "    <tr>\n",
       "      <th>1</th>\n",
       "      <td>2013-01-03</td>\n",
       "      <td>19.809999</td>\n",
       "      <td>20.400000</td>\n",
       "      <td>19.700001</td>\n",
       "      <td>20.400000</td>\n",
       "      <td>18.738441</td>\n",
       "      <td>30552600.0</td>\n",
       "    </tr>\n",
       "    <tr>\n",
       "      <th>2</th>\n",
       "      <td>2013-01-04</td>\n",
       "      <td>20.330000</td>\n",
       "      <td>20.620001</td>\n",
       "      <td>20.170000</td>\n",
       "      <td>20.430000</td>\n",
       "      <td>18.766001</td>\n",
       "      <td>36141000.0</td>\n",
       "    </tr>\n",
       "    <tr>\n",
       "      <th>3</th>\n",
       "      <td>2013-01-07</td>\n",
       "      <td>20.480000</td>\n",
       "      <td>20.670000</td>\n",
       "      <td>19.950001</td>\n",
       "      <td>20.080000</td>\n",
       "      <td>18.444506</td>\n",
       "      <td>28069600.0</td>\n",
       "    </tr>\n",
       "    <tr>\n",
       "      <th>4</th>\n",
       "      <td>2013-01-08</td>\n",
       "      <td>20.110001</td>\n",
       "      <td>20.230000</td>\n",
       "      <td>19.459999</td>\n",
       "      <td>19.500000</td>\n",
       "      <td>17.911745</td>\n",
       "      <td>29091300.0</td>\n",
       "    </tr>\n",
       "  </tbody>\n",
       "</table>\n",
       "</div>"
      ],
      "text/plain": [
       "         Date       Open       High        Low      Close  Adj Close  \\\n",
       "0  2013-01-02  19.990000  20.209999  19.690001  19.690001  18.086271   \n",
       "1  2013-01-03  19.809999  20.400000  19.700001  20.400000  18.738441   \n",
       "2  2013-01-04  20.330000  20.620001  20.170000  20.430000  18.766001   \n",
       "3  2013-01-07  20.480000  20.670000  19.950001  20.080000  18.444506   \n",
       "4  2013-01-08  20.110001  20.230000  19.459999  19.500000  17.911745   \n",
       "\n",
       "       Volume  \n",
       "0  30182600.0  \n",
       "1  30552600.0  \n",
       "2  36141000.0  \n",
       "3  28069600.0  \n",
       "4  29091300.0  "
      ]
     },
     "execution_count": 2,
     "metadata": {},
     "output_type": "execute_result"
    }
   ],
   "source": [
    "base = pd.read_csv('petr4-treinamento.csv')\n",
    "base = base.dropna() # Retirando valores nulos\n",
    "base.head()"
   ]
  },
  {
   "cell_type": "markdown",
   "metadata": {},
   "source": [
    "### Pré - processamento\n",
    "Primeiramente, é necessário dividir a base para o atributo previsor/a ser previsto (Open) e o segundo a ser previsto (High)."
   ]
  },
  {
   "cell_type": "code",
   "execution_count": 3,
   "metadata": {},
   "outputs": [],
   "source": [
    "X_treinamento = base.iloc[:,1:2].values # Open\n",
    "X_alta = base.iloc[:,2:3].values # Alta"
   ]
  },
  {
   "cell_type": "markdown",
   "metadata": {},
   "source": [
    "Para melhorar a velocidade de processamento, é necessário normalizar os dados:"
   ]
  },
  {
   "cell_type": "code",
   "execution_count": 4,
   "metadata": {},
   "outputs": [],
   "source": [
    "normalizador = MinMaxScaler(feature_range=(0,1))\n",
    "\n",
    "X_treinamento_normalizado = normalizador.fit_transform(X_treinamento)\n",
    "X_alta_normalizado = normalizador.fit_transform(X_alta)"
   ]
  },
  {
   "cell_type": "markdown",
   "metadata": {},
   "source": [
    "### Matriz de previsores e preços\n",
    "Nesta etapa, é criada a estrutura em matriz dos preços reais e seus previsores. A variável *time* representa o número de dias que serão usados para previsão do preço atual."
   ]
  },
  {
   "cell_type": "code",
   "execution_count": 5,
   "metadata": {},
   "outputs": [
    {
     "data": {
      "text/plain": [
       "array([[0.65116274, 0.66311202],\n",
       "       [0.66424419, 0.67426079],\n",
       "       [0.67344961, 0.67038294],\n",
       "       ...,\n",
       "       [0.57122093, 0.57537562],\n",
       "       [0.57655039, 0.57489089],\n",
       "       [0.57655039, 0.57343674]])"
      ]
     },
     "execution_count": 5,
     "metadata": {},
     "output_type": "execute_result"
    }
   ],
   "source": [
    "previsores = []\n",
    "preco_real_open = []\n",
    "preco_real_high = []\n",
    "\n",
    "time = 30\n",
    "\n",
    "for i in range(time, len(X_treinamento_normalizado)):\n",
    "    previsores.append(X_treinamento_normalizado[i-time:i,0])\n",
    "    preco_real_open.append(X_treinamento_normalizado[i,0])\n",
    "    preco_real_high.append(X_alta_normalizado[i,0])\n",
    "\n",
    "# Transformação de lista para np array\n",
    "previsores, preco_real_high, preco_real_open = np.array(previsores), np.array(preco_real_high), np.array(preco_real_open)\n",
    "\n",
    "# Mudando dimensões para formato do Keras (batch_size, timesteps, input_dim)\n",
    "previsores = np.reshape(previsores, (previsores.shape[0], time, 1))\n",
    "\n",
    "# Concatenando os preços de Open e High \n",
    "preco_real_todos = np.column_stack((preco_real_open, preco_real_high))\n",
    "preco_real_todos"
   ]
  },
  {
   "cell_type": "markdown",
   "metadata": {},
   "source": [
    "### Criação da RNN\n",
    "Com os dados tratados e organizados, cria-se a Rede Neural Recorrente."
   ]
  },
  {
   "cell_type": "code",
   "execution_count": 6,
   "metadata": {},
   "outputs": [],
   "source": [
    "regressor = Sequential()\n",
    "\n",
    "regressor.add(LSTM(units=100, return_sequences = True, input_shape = (previsores.shape[1], 1)))\n",
    "regressor.add(Dropout(0.2))\n",
    "\n",
    "regressor.add(LSTM(units=50, return_sequences = True))\n",
    "regressor.add(Dropout(0.2))\n",
    "\n",
    "regressor.add(LSTM(units=50)) # Sem return na última camada LSTM\n",
    "regressor.add(Dropout(0.2))\n",
    "\n",
    "regressor.add(Dense(units=2, activation = 'linear')) # Camada de saída\n",
    "\n",
    "regressor.compile(optimizer = 'rmsprop', loss = 'mean_squared_error', metrics = ['mean_absolute_error'])"
   ]
  },
  {
   "cell_type": "markdown",
   "metadata": {},
   "source": [
    "Por fim, o treinamento do modelo é feito."
   ]
  },
  {
   "cell_type": "code",
   "execution_count": 7,
   "metadata": {},
   "outputs": [
    {
     "name": "stdout",
     "output_type": "stream",
     "text": [
      "Epoch 1/100\n",
      "1212/1212 [==============================] - 33s 27ms/step - loss: 0.0162 - mean_absolute_error: 0.0935\n",
      "Epoch 2/100\n",
      "1212/1212 [==============================] - 32s 26ms/step - loss: 0.0082 - mean_absolute_error: 0.0684\n",
      "Epoch 3/100\n",
      "1212/1212 [==============================] - 30s 25ms/step - loss: 0.0064 - mean_absolute_error: 0.0611\n",
      "Epoch 4/100\n",
      "1212/1212 [==============================] - 30s 25ms/step - loss: 0.0054 - mean_absolute_error: 0.0554\n",
      "Epoch 5/100\n",
      "1212/1212 [==============================] - 31s 26ms/step - loss: 0.0047 - mean_absolute_error: 0.0518\n",
      "Epoch 6/100\n",
      "1212/1212 [==============================] - 29s 24ms/step - loss: 0.0038 - mean_absolute_error: 0.0466\n",
      "Epoch 7/100\n",
      "1212/1212 [==============================] - 29s 24ms/step - loss: 0.0037 - mean_absolute_error: 0.0458\n",
      "Epoch 8/100\n",
      "1212/1212 [==============================] - 30s 24ms/step - loss: 0.0030 - mean_absolute_error: 0.0420\n",
      "Epoch 9/100\n",
      "1212/1212 [==============================] - 30s 24ms/step - loss: 0.0028 - mean_absolute_error: 0.0400\n",
      "Epoch 10/100\n",
      "1212/1212 [==============================] - 30s 25ms/step - loss: 0.0025 - mean_absolute_error: 0.0387\n",
      "Epoch 11/100\n",
      "1212/1212 [==============================] - 29s 24ms/step - loss: 0.0027 - mean_absolute_error: 0.0389\n",
      "Epoch 12/100\n",
      "1212/1212 [==============================] - 30s 25ms/step - loss: 0.0025 - mean_absolute_error: 0.0371\n",
      "Epoch 13/100\n",
      "1212/1212 [==============================] - 31s 25ms/step - loss: 0.0022 - mean_absolute_error: 0.0360\n",
      "Epoch 14/100\n",
      "1212/1212 [==============================] - 30s 25ms/step - loss: 0.0021 - mean_absolute_error: 0.0339\n",
      "Epoch 15/100\n",
      "1212/1212 [==============================] - 30s 25ms/step - loss: 0.0020 - mean_absolute_error: 0.0336\n",
      "Epoch 16/100\n",
      "1212/1212 [==============================] - 30s 25ms/step - loss: 0.0019 - mean_absolute_error: 0.0328\n",
      "Epoch 17/100\n",
      "1212/1212 [==============================] - 30s 24ms/step - loss: 0.0018 - mean_absolute_error: 0.0313\n",
      "Epoch 18/100\n",
      "1212/1212 [==============================] - 30s 25ms/step - loss: 0.0018 - mean_absolute_error: 0.0320\n",
      "Epoch 19/100\n",
      "1212/1212 [==============================] - 30s 24ms/step - loss: 0.0017 - mean_absolute_error: 0.0309\n",
      "Epoch 20/100\n",
      "1212/1212 [==============================] - 29s 24ms/step - loss: 0.0016 - mean_absolute_error: 0.0307\n",
      "Epoch 21/100\n",
      "1212/1212 [==============================] - 30s 24ms/step - loss: 0.0014 - mean_absolute_error: 0.0287\n",
      "Epoch 22/100\n",
      "1212/1212 [==============================] - 29s 24ms/step - loss: 0.0015 - mean_absolute_error: 0.0292\n",
      "Epoch 23/100\n",
      "1212/1212 [==============================] - 28s 23ms/step - loss: 0.0015 - mean_absolute_error: 0.0292\n",
      "Epoch 24/100\n",
      "1212/1212 [==============================] - 29s 24ms/step - loss: 0.0014 - mean_absolute_error: 0.0283\n",
      "Epoch 25/100\n",
      "1212/1212 [==============================] - 29s 24ms/step - loss: 0.0015 - mean_absolute_error: 0.0285\n",
      "Epoch 26/100\n",
      "1212/1212 [==============================] - 28s 23ms/step - loss: 0.0015 - mean_absolute_error: 0.0285\n",
      "Epoch 27/100\n",
      "1212/1212 [==============================] - 29s 24ms/step - loss: 0.0015 - mean_absolute_error: 0.0285\n",
      "Epoch 28/100\n",
      "1212/1212 [==============================] - 29s 24ms/step - loss: 0.0014 - mean_absolute_error: 0.0279\n",
      "Epoch 29/100\n",
      "1212/1212 [==============================] - 29s 24ms/step - loss: 0.0013 - mean_absolute_error: 0.0272\n",
      "Epoch 30/100\n",
      "1212/1212 [==============================] - 29s 24ms/step - loss: 0.0014 - mean_absolute_error: 0.0283\n",
      "Epoch 31/100\n",
      "1212/1212 [==============================] - 28s 23ms/step - loss: 0.0013 - mean_absolute_error: 0.0267\n",
      "Epoch 32/100\n",
      "1212/1212 [==============================] - 28s 23ms/step - loss: 0.0012 - mean_absolute_error: 0.0262\n",
      "Epoch 33/100\n",
      "1212/1212 [==============================] - 29s 24ms/step - loss: 0.0013 - mean_absolute_error: 0.0266\n",
      "Epoch 34/100\n",
      "1212/1212 [==============================] - 29s 24ms/step - loss: 0.0014 - mean_absolute_error: 0.0278\n",
      "Epoch 35/100\n",
      "1212/1212 [==============================] - 31s 26ms/step - loss: 0.0012 - mean_absolute_error: 0.0264\n",
      "Epoch 36/100\n",
      "1212/1212 [==============================] - 30s 25ms/step - loss: 0.0013 - mean_absolute_error: 0.0271\n",
      "Epoch 37/100\n",
      "1212/1212 [==============================] - 29s 24ms/step - loss: 0.0013 - mean_absolute_error: 0.0270\n",
      "Epoch 38/100\n",
      "1212/1212 [==============================] - 29s 24ms/step - loss: 0.0013 - mean_absolute_error: 0.0270\n",
      "Epoch 39/100\n",
      "1212/1212 [==============================] - 29s 24ms/step - loss: 0.0012 - mean_absolute_error: 0.0257\n",
      "Epoch 40/100\n",
      "1212/1212 [==============================] - 29s 24ms/step - loss: 0.0013 - mean_absolute_error: 0.0267\n",
      "Epoch 41/100\n",
      "1212/1212 [==============================] - 31s 25ms/step - loss: 0.0012 - mean_absolute_error: 0.0262\n",
      "Epoch 42/100\n",
      "1212/1212 [==============================] - 31s 25ms/step - loss: 0.0013 - mean_absolute_error: 0.0270\n",
      "Epoch 43/100\n",
      "1212/1212 [==============================] - 31s 25ms/step - loss: 0.0013 - mean_absolute_error: 0.0264\n",
      "Epoch 44/100\n",
      "1212/1212 [==============================] - 31s 26ms/step - loss: 0.0012 - mean_absolute_error: 0.0260\n",
      "Epoch 45/100\n",
      "1212/1212 [==============================] - 31s 26ms/step - loss: 0.0012 - mean_absolute_error: 0.0258\n",
      "Epoch 46/100\n",
      "1212/1212 [==============================] - 31s 25ms/step - loss: 0.0012 - mean_absolute_error: 0.0253\n",
      "Epoch 47/100\n",
      "1212/1212 [==============================] - 31s 25ms/step - loss: 0.0012 - mean_absolute_error: 0.0256\n",
      "Epoch 48/100\n",
      "1212/1212 [==============================] - 30s 25ms/step - loss: 0.0012 - mean_absolute_error: 0.0258\n",
      "Epoch 49/100\n",
      "1212/1212 [==============================] - 31s 25ms/step - loss: 0.0011 - mean_absolute_error: 0.0254\n",
      "Epoch 50/100\n",
      "1212/1212 [==============================] - 31s 25ms/step - loss: 0.0011 - mean_absolute_error: 0.0250\n",
      "Epoch 51/100\n",
      "1212/1212 [==============================] - 31s 25ms/step - loss: 0.0011 - mean_absolute_error: 0.0253\n",
      "Epoch 52/100\n",
      "1212/1212 [==============================] - 30s 25ms/step - loss: 0.0012 - mean_absolute_error: 0.0256\n",
      "Epoch 53/100\n",
      "1212/1212 [==============================] - 31s 25ms/step - loss: 0.0011 - mean_absolute_error: 0.0251\n",
      "Epoch 54/100\n",
      "1212/1212 [==============================] - 31s 25ms/step - loss: 0.0012 - mean_absolute_error: 0.0252\n",
      "Epoch 55/100\n",
      "1212/1212 [==============================] - 31s 25ms/step - loss: 0.0011 - mean_absolute_error: 0.0249\n",
      "Epoch 56/100\n",
      "1212/1212 [==============================] - 31s 25ms/step - loss: 0.0012 - mean_absolute_error: 0.0261\n",
      "Epoch 57/100\n",
      "1212/1212 [==============================] - 31s 25ms/step - loss: 0.0011 - mean_absolute_error: 0.0245\n",
      "Epoch 58/100\n",
      "1212/1212 [==============================] - 30s 25ms/step - loss: 0.0012 - mean_absolute_error: 0.0256\n",
      "Epoch 59/100\n",
      "1212/1212 [==============================] - 31s 26ms/step - loss: 0.0011 - mean_absolute_error: 0.0244\n",
      "Epoch 60/100\n",
      "1212/1212 [==============================] - 31s 25ms/step - loss: 0.0012 - mean_absolute_error: 0.0255\n",
      "Epoch 61/100\n",
      "1212/1212 [==============================] - 31s 25ms/step - loss: 0.0011 - mean_absolute_error: 0.0250\n",
      "Epoch 62/100\n",
      "1212/1212 [==============================] - 30s 25ms/step - loss: 0.0011 - mean_absolute_error: 0.0245\n",
      "Epoch 63/100\n",
      "1212/1212 [==============================] - 30s 25ms/step - loss: 0.0011 - mean_absolute_error: 0.0245\n",
      "Epoch 64/100\n",
      "1212/1212 [==============================] - 30s 25ms/step - loss: 0.0010 - mean_absolute_error: 0.0246\n",
      "Epoch 65/100\n",
      "1212/1212 [==============================] - 31s 25ms/step - loss: 0.0011 - mean_absolute_error: 0.0249\n",
      "Epoch 66/100\n",
      "1212/1212 [==============================] - 30s 25ms/step - loss: 0.0010 - mean_absolute_error: 0.0241\n",
      "Epoch 67/100\n",
      "1212/1212 [==============================] - 31s 25ms/step - loss: 0.0011 - mean_absolute_error: 0.0253 4s - loss: 0.0012 - mean\n",
      "Epoch 68/100\n",
      "1212/1212 [==============================] - 30s 25ms/step - loss: 0.0011 - mean_absolute_error: 0.0237\n",
      "Epoch 69/100\n",
      "1212/1212 [==============================] - 31s 25ms/step - loss: 0.0010 - mean_absolute_error: 0.0241\n",
      "Epoch 70/100\n"
     ]
    },
    {
     "name": "stdout",
     "output_type": "stream",
     "text": [
      "1212/1212 [==============================] - 30s 25ms/step - loss: 0.0011 - mean_absolute_error: 0.0244\n",
      "Epoch 71/100\n",
      "1212/1212 [==============================] - 32s 26ms/step - loss: 0.0010 - mean_absolute_error: 0.0243\n",
      "Epoch 72/100\n",
      "1212/1212 [==============================] - 31s 26ms/step - loss: 0.0011 - mean_absolute_error: 0.0252\n",
      "Epoch 73/100\n",
      "1212/1212 [==============================] - 32s 26ms/step - loss: 0.0010 - mean_absolute_error: 0.0242\n",
      "Epoch 74/100\n",
      "1212/1212 [==============================] - 31s 26ms/step - loss: 0.0010 - mean_absolute_error: 0.0239\n",
      "Epoch 75/100\n",
      "1212/1212 [==============================] - 31s 26ms/step - loss: 0.0011 - mean_absolute_error: 0.0246\n",
      "Epoch 76/100\n",
      "1212/1212 [==============================] - 31s 26ms/step - loss: 0.0011 - mean_absolute_error: 0.0247\n",
      "Epoch 77/100\n",
      "1212/1212 [==============================] - 31s 25ms/step - loss: 0.0011 - mean_absolute_error: 0.0242 3s - loss: 0.0011 - mean_absol\n",
      "Epoch 78/100\n",
      "1212/1212 [==============================] - 31s 25ms/step - loss: 0.0011 - mean_absolute_error: 0.0244\n",
      "Epoch 79/100\n",
      "1212/1212 [==============================] - 30s 25ms/step - loss: 0.0011 - mean_absolute_error: 0.0242\n",
      "Epoch 80/100\n",
      "1212/1212 [==============================] - 30s 25ms/step - loss: 0.0011 - mean_absolute_error: 0.0252\n",
      "Epoch 81/100\n",
      "1212/1212 [==============================] - 31s 25ms/step - loss: 0.0010 - mean_absolute_error: 0.0238\n",
      "Epoch 82/100\n",
      "1212/1212 [==============================] - 31s 25ms/step - loss: 0.0011 - mean_absolute_error: 0.0245\n",
      "Epoch 83/100\n",
      "1212/1212 [==============================] - 31s 25ms/step - loss: 0.0011 - mean_absolute_error: 0.0241\n",
      "Epoch 84/100\n",
      "1212/1212 [==============================] - 31s 26ms/step - loss: 0.0010 - mean_absolute_error: 0.0242\n",
      "Epoch 85/100\n",
      "1212/1212 [==============================] - 30s 25ms/step - loss: 0.0010 - mean_absolute_error: 0.0239\n",
      "Epoch 86/100\n",
      "1212/1212 [==============================] - 30s 25ms/step - loss: 0.0010 - mean_absolute_error: 0.0238\n",
      "Epoch 87/100\n",
      "1212/1212 [==============================] - 30s 24ms/step - loss: 9.9268e-04 - mean_absolute_error: 0.0234\n",
      "Epoch 88/100\n",
      "1212/1212 [==============================] - 31s 26ms/step - loss: 0.0011 - mean_absolute_error: 0.0247\n",
      "Epoch 89/100\n",
      "1212/1212 [==============================] - 31s 25ms/step - loss: 0.0011 - mean_absolute_error: 0.0235\n",
      "Epoch 90/100\n",
      "1212/1212 [==============================] - 31s 26ms/step - loss: 9.6151e-04 - mean_absolute_error: 0.0232\n",
      "Epoch 91/100\n",
      "1212/1212 [==============================] - 30s 24ms/step - loss: 0.0010 - mean_absolute_error: 0.0242\n",
      "Epoch 92/100\n",
      "1212/1212 [==============================] - 31s 26ms/step - loss: 0.0010 - mean_absolute_error: 0.0235\n",
      "Epoch 93/100\n",
      "1212/1212 [==============================] - 30s 25ms/step - loss: 0.0011 - mean_absolute_error: 0.0242\n",
      "Epoch 94/100\n",
      "1212/1212 [==============================] - 30s 24ms/step - loss: 0.0011 - mean_absolute_error: 0.0239\n",
      "Epoch 95/100\n",
      "1212/1212 [==============================] - 31s 26ms/step - loss: 9.6968e-04 - mean_absolute_error: 0.0230\n",
      "Epoch 96/100\n",
      "1212/1212 [==============================] - 32s 26ms/step - loss: 9.8304e-04 - mean_absolute_error: 0.0233\n",
      "Epoch 97/100\n",
      "1212/1212 [==============================] - 31s 26ms/step - loss: 0.0010 - mean_absolute_error: 0.0237\n",
      "Epoch 98/100\n",
      "1212/1212 [==============================] - 32s 26ms/step - loss: 9.5260e-04 - mean_absolute_error: 0.0233\n",
      "Epoch 99/100\n",
      "1212/1212 [==============================] - 32s 27ms/step - loss: 0.0011 - mean_absolute_error: 0.0246\n",
      "Epoch 100/100\n",
      "1212/1212 [==============================] - 31s 25ms/step - loss: 9.5741e-04 - mean_absolute_error: 0.0231\n"
     ]
    },
    {
     "data": {
      "text/plain": [
       "<keras.callbacks.History at 0x25acd2e0c88>"
      ]
     },
     "execution_count": 7,
     "metadata": {},
     "output_type": "execute_result"
    }
   ],
   "source": [
    "regressor.fit(previsores, preco_real_todos, epochs=100, batch_size=8, verbose=True)"
   ]
  },
  {
   "cell_type": "markdown",
   "metadata": {},
   "source": [
    "### Validação com base de teste\n",
    "Para validação e posteriormente obtenção dos resultados, utiliza-se a mesma lógica da base de treinamento e depois o método *predict."
   ]
  },
  {
   "cell_type": "code",
   "execution_count": 8,
   "metadata": {},
   "outputs": [],
   "source": [
    "base_teste = pd.read_csv('petr4-teste.csv')\n",
    "\n",
    "preco_real_open_teste = base_teste.iloc[:,1:2].values # Open\n",
    "preco_real_high_teste = base_teste.iloc[:,2:3].values # Alta "
   ]
  },
  {
   "cell_type": "markdown",
   "metadata": {},
   "source": [
    "Um rearranjo é feito para obter um vetor com todos os valores atuais e previsores para o tempo estipulado."
   ]
  },
  {
   "cell_type": "code",
   "execution_count": 9,
   "metadata": {},
   "outputs": [],
   "source": [
    "base_completa = pd.concat((base['Open'], base_teste['Open']), axis = 0)\n",
    "\n",
    "entradas = base_completa[len(base_completa) - len(base_teste) - time:].values\n",
    "entradas = entradas.reshape(-1,1)"
   ]
  },
  {
   "cell_type": "markdown",
   "metadata": {},
   "source": [
    "Normalizando:"
   ]
  },
  {
   "cell_type": "code",
   "execution_count": 10,
   "metadata": {},
   "outputs": [],
   "source": [
    "entradas = normalizador.transform(entradas)"
   ]
  },
  {
   "cell_type": "markdown",
   "metadata": {},
   "source": [
    "Fazendo a matriz de previsores e preços pra base de teste:"
   ]
  },
  {
   "cell_type": "code",
   "execution_count": 11,
   "metadata": {},
   "outputs": [],
   "source": [
    "X_teste = []\n",
    "\n",
    "for i in range(time, len(entradas)):\n",
    "    X_teste.append(entradas[i-time:i, 0])\n",
    "\n",
    "# Transformação de lista para np array    \n",
    "X_teste = np.array(X_teste)\n",
    "\n",
    "# Mudando dimensões para formato do Keras (batch_size, timesteps, input_dim)\n",
    "X_teste = np.reshape(X_teste, (X_teste.shape[0], time, 1))"
   ]
  },
  {
   "cell_type": "markdown",
   "metadata": {},
   "source": [
    "### Resultados"
   ]
  },
  {
   "cell_type": "code",
   "execution_count": 12,
   "metadata": {},
   "outputs": [],
   "source": [
    "previsoes = regressor.predict(X_teste)\n",
    "previsoes = normalizador.inverse_transform(previsoes) # Necessário inverter a normalização"
   ]
  },
  {
   "cell_type": "code",
   "execution_count": 13,
   "metadata": {},
   "outputs": [],
   "source": [
    "def exibirResultados():\n",
    "    print('Abertura depois alta')\n",
    "    print()\n",
    "    for i in range(len(previsoes)):\n",
    "        print('Previsão:', round(previsoes[i][0],4),'\\t',round(previsoes[i][1],4), '\\t\\tValor real:', round(preco_real_open_teste[i][0],4), '\\t', round(preco_real_high_teste[i][0],4))\n",
    "    print()"
   ]
  },
  {
   "cell_type": "code",
   "execution_count": 14,
   "metadata": {},
   "outputs": [
    {
     "name": "stdout",
     "output_type": "stream",
     "text": [
      "Abertura depois alta\n",
      "\n",
      "Previsão: 16.2325 \t 16.4242 \t\tValor real: 16.19 \t 16.55\n",
      "Previsão: 16.3097 \t 16.5023 \t\tValor real: 16.49 \t 16.72\n",
      "Previsão: 16.5816 \t 16.778 \t\tValor real: 16.78 \t 16.96\n",
      "Previsão: 16.8789 \t 17.0792 \t\tValor real: 16.7 \t 16.86\n",
      "Previsão: 16.8462 \t 17.0454 \t\tValor real: 16.74 \t 17.03\n",
      "Previsão: 16.8613 \t 17.0604 \t\tValor real: 17.03 \t 17.16\n",
      "Previsão: 17.1031 \t 17.3056 \t\tValor real: 16.92 \t 17.05\n",
      "Previsão: 17.0412 \t 17.2424 \t\tValor real: 16.88 \t 17.3\n",
      "Previsão: 17.0054 \t 17.206 \t\tValor real: 17.04 \t 17.41\n",
      "Previsão: 17.127 \t 17.3293 \t\tValor real: 17.32 \t 17.44\n",
      "Previsão: 17.3951 \t 17.6013 \t\tValor real: 17.35 \t 17.84\n",
      "Previsão: 17.4605 \t 17.6674 \t\tValor real: 17.92 \t 18.36\n",
      "Previsão: 17.9837 \t 18.1981 \t\tValor real: 18.35 \t 18.53\n",
      "Previsão: 18.4082 \t 18.6284 \t\tValor real: 18.31 \t 18.42\n",
      "Previsão: 18.4276 \t 18.6473 \t\tValor real: 18.26 \t 18.47\n",
      "Previsão: 18.3623 \t 18.5806 \t\tValor real: 18.4 \t 18.46\n",
      "Previsão: 18.4483 \t 18.6678 \t\tValor real: 18.42 \t 19.63\n",
      "Previsão: 18.4767 \t 18.6966 \t\tValor real: 19.34 \t 19.34\n",
      "Previsão: 19.3417 \t 19.5747 \t\tValor real: 19.62 \t 19.98\n",
      "Previsão: 19.6572 \t 19.8945 \t\tValor real: 19.67 \t 20.05\n",
      "Previsão: 19.7562 \t 19.9944 \t\tValor real: 19.77 \t 19.77\n",
      "Previsão: 19.7915 \t 20.0299 \t\tValor real: 19.74 \t 19.93\n",
      "\n"
     ]
    }
   ],
   "source": [
    "exibirResultados()"
   ]
  },
  {
   "cell_type": "markdown",
   "metadata": {},
   "source": [
    "### Visualização Gráfica"
   ]
  },
  {
   "cell_type": "code",
   "execution_count": 15,
   "metadata": {},
   "outputs": [
    {
     "data": {
      "image/png": "[encoded data removed]",
      "text/plain": [
       "<Figure size 432x288 with 1 Axes>"
      ]
     },
     "metadata": {
      "needs_background": "light"
     },
     "output_type": "display_data"
    },
    {
     "data": {
      "image/png": "[encoded data removed]",
      "text/plain": [
       "<Figure size 432x288 with 1 Axes>"
      ]
     },
     "metadata": {
      "needs_background": "light"
     },
     "output_type": "display_data"
    }
   ],
   "source": [
    "%matplotlib inline\n",
    "import matplotlib.pyplot as plt\n",
    "\n",
    "plt.plot(previsoes[:,0], color = 'blue', label = \"Previsões Abertura\")\n",
    "plt.plot(preco_real_open_teste, color = \"red\", label = \"Preço Real Abertura\")\n",
    "plt.xlabel(\"Tempo(dias)\")\n",
    "plt.ylabel(\"Valor\")\n",
    "plt.legend()\n",
    "plt.show()\n",
    "\n",
    "plt.plot(previsoes[:,1], color = 'orange', label = \"Previsões Alta\")\n",
    "plt.plot(preco_real_high_teste, color = \"black\", label = \"Preço Real Alta\")\n",
    "plt.xlabel(\"Tempo(dias)\")\n",
    "plt.ylabel(\"Valor\")\n",
    "plt.legend()\n",
    "plt.show()"
   ]
  }
 ],
 "metadata": {
  "kernelspec": {
   "display_name": "Python 3",
   "language": "python",
   "name": "python3"
  },
  "language_info": {
   "codemirror_mode": {
    "name": "ipython",
    "version": 3
   },
   "file_extension": ".py",
   "mimetype": "text/x-python",
   "name": "python",
   "nbconvert_exporter": "python",
   "pygments_lexer": "ipython3",
   "version": "3.6.8"
  }
 },
 "nbformat": 4,
 "nbformat_minor": 2
}
